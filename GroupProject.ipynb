{
  "nbformat": 4,
  "nbformat_minor": 0,
  "metadata": {
    "colab": {
      "name": "GroupProject.ipynb",
      "provenance": [],
      "collapsed_sections": []
    },
    "kernelspec": {
      "name": "python3",
      "display_name": "Python 3"
    }
  },
  "cells": [
    {
      "cell_type": "code",
      "metadata": {
        "id": "dEBB7ctsUfXp"
      },
      "source": [
        "import numpy as np\n",
        "from scipy.stats import bernoulli\n",
        "from sklearn.neighbors import KNeighborsClassifier, KNeighborsRegressor\n",
        "from matplotlib import pyplot as plt\n",
        "from sklearn.model_selection import validation_curve"
      ],
      "execution_count": null,
      "outputs": []
    },
    {
      "cell_type": "markdown",
      "metadata": {
        "id": "0xqYOPtPhTWM"
      },
      "source": [
        "# Data Collection\n",
        "Here is where we can upload the data to our dataset.\n",
        "\n",
        "Alex- Washington\n",
        "\n",
        "Talia-California\n",
        "\n",
        "Josh- Utah\n",
        "\n",
        "Race Links: https://www.runningintheusa.com/classic/list/ut"
      ]
    },
    {
      "cell_type": "code",
      "metadata": {
        "id": "iygKCM72SN7x"
      },
      "source": [
        "#Upload data here!\n",
        "california_data = np.array([])"
      ],
      "execution_count": null,
      "outputs": []
    },
    {
      "cell_type": "code",
      "metadata": {
        "id": "fFMwyo6IhBPZ"
      },
      "source": [
        "class California_Evaluation():\n",
        "  def __init__(self):\n",
        "    self.dataset = [] #np.array([])   # keeps track of total dataset\n",
        "    self.trainset = np.array([])  # training dataset\n",
        "    self.testset = np.array([])   # testing dataset\n",
        "\n",
        "  def add_data(self, data_point):\n",
        "    \"\"\"Adds a datapoint to our dataset.\n",
        "          Arguments:\n",
        "            data_point (np.darray)- datapoint entry\n",
        "    \"\"\"\n",
        "    self.dataset.append(data_point)  # adding datapoint to total dataset\n",
        "\n",
        "  def get_testset(self, per=.8):\n",
        "    \"\"\"Creates a test dataset and train dataset.\n",
        "          Arguments:\n",
        "            per (float)- percentage to divide original data by, ex. .8 puts ~80% data\n",
        "                         into the train dataset, ~20% into the test dataset.\n",
        "    \"\"\"\n",
        "    # Iterating through the dataset\n",
        "    for data in self.dataset:\n",
        "      if bernoulli.rvs(per):\n",
        "        self.trainset = np.append(self.trainset, data)  # adding to trainset\n",
        "      \n",
        "      else:\n",
        "        self.testset = np.append(self.testset, data)    # adding to testset\n",
        "  \n",
        "  def evaluate_output(self, plot='boxplot', y=None):\n",
        "    \"\"\"Evaluates the target values of our dataset.\n",
        "          Arguments:\n",
        "            plot (string)- type of plot we want to create.\n",
        "              1. box plot\n",
        "              2. violin plot\n",
        "    \"\"\"\n",
        "    # Getting target values\n",
        "    if y is None:\n",
        "      dataset = np.array(self.dataset)\n",
        "      y = dataset[:,-1].astype('int')   # changing dtype from object to int\n",
        "    \n",
        "    # Getting box plot\n",
        "    if plot == 'boxplot':\n",
        "      plt.boxplot(y, vert=False)\n",
        "    \n",
        "    # Getting violin plot\n",
        "    else:\n",
        "      plt.violinplot(y, vert=False)\n",
        "    \n",
        "    # Etc. plotting details\n",
        "    plt.title('Target Evaulation')\n",
        "    plt.xlabel('Number of Participants')\n",
        "    plt.show()\n",
        "  \n",
        "  def normalizing_data(self):\n",
        "    \"\"\"Removes outliers, normalizies outputs, divides into X and y.\"\"\"\n",
        "    dataset = np.array(self.dataset)\n",
        "    X = dataset[:,:-1]\n",
        "    y = dataset[:,-1].astype('int')   # changing dtype from object to int\n",
        "\n",
        "    # Removing outliers\n",
        "    num_devs = 1.5    # number of deviations to keep\n",
        "    X = X[abs(y-np.median(y)) < num_devs * np.std(y)]\n",
        "    y = y[abs(y-np.median(y)) < num_devs * np.std(y)]\n",
        "\n",
        "    # Normalizing data\n",
        "    # we need to normalize X as well\n",
        "    #y = (y - np.min(y))/(np.max(y) - np.min(y))\n",
        "\n",
        "    # Updating None values in cost column with cost average\n",
        "    costs = X[:,-2]\n",
        "    costs[costs==None] = np.average(costs[costs!=None].astype('float'))\n",
        "\n",
        "    st = X[:,-4]\n",
        "    st[st==None] = np.average(st[st!=None].astype('float'))\n",
        "\n",
        "    return X, y\n",
        "\n",
        "CA = California_Evaluation()\n",
        "\n",
        "\n",
        "def ca(title, loc, month, day, elv, len, st, multiple, cost, city_pop, num_par):\n",
        "  \"\"\"Helper function for loading data into my numpy array for the state of California.\n",
        "  Parameters:\n",
        "    1. title: name of race\n",
        "    2. loc: race location\n",
        "    3. month: month of year (1-12)\n",
        "    4. day: day of week\n",
        "          0- monday\n",
        "          1- tuesday\n",
        "          2- wednesday\n",
        "          3- thursday\n",
        "          4- friday\n",
        "          5- saturday\n",
        "          6- sunday\n",
        "    4. elv: elevation (ft)\n",
        "    5. len: length of race (km)\n",
        "    8. st: start time in military time, without colon\n",
        "    9: multiple: bool whether or not multiple races at that location, 1 True, 0 False\n",
        "    12. cost: cost (USD)\n",
        "    13. city_pop: population of the city\n",
        "    14: num_par: number of participants (target)\n",
        "\n",
        "  \"\"\"\n",
        "  CA.add_data(np.array([title, loc, month, day, elv, len, st, multiple, cost, city_pop, num_par]))"
      ],
      "execution_count": null,
      "outputs": []
    },
    {
      "cell_type": "code",
      "metadata": {
        "id": "yyrb0XNGoLyM"
      },
      "source": [
        "#X[:,-4] 16/31"
      ],
      "execution_count": null,
      "outputs": []
    },
    {
      "cell_type": "code",
      "metadata": {
        "colab": {
          "base_uri": "https://localhost:8080/"
        },
        "id": "KGRpLP6qhYkb",
        "outputId": "d0653d5f-7391-47bd-d384-d22902011adc"
      },
      "source": [
        "9/31"
      ],
      "execution_count": null,
      "outputs": [
        {
          "output_type": "execute_result",
          "data": {
            "text/plain": [
              "0.2903225806451613"
            ]
          },
          "metadata": {
            "tags": []
          },
          "execution_count": 2
        }
      ]
    },
    {
      "cell_type": "code",
      "metadata": {
        "id": "_J4kbzndgKpK"
      },
      "source": [
        "ca('OC Pumpkin Run', 'Fullerton', 10, 5, 164, 5, 730, 0, 45, 139640, 414)\n",
        "ca('E3 Family Fun Run', 'Rancho Cucamonga', 10, 5, 1180, 5, 745, 1, None, 177751, 186)\n",
        "ca('E3 Family Fun Run', 'Rancho Cucamonga', 10, 5, 1180, 2, 745, 1, None, 177751, 146)\n",
        "ca('Fit Foodie 5K/10K', 'San Diego', 10, 5, 49, 5, 800, 1, None, 1430000, 1325)\n",
        "\n",
        "ca('Manhattan Beach GLOWTIDE 5k', 'Manhattan Beach', 12, 5, 120, 5, 1730, 0, 40, 35532, 196)\n",
        "ca('Los Angeles Jingle Bell Run', 'Los Angeles', 12, 6, 285, 5, 700, 1, None, 3990000, 383)\n",
        "ca('2019 Jingle Bell Run- OC', 'Corona', 12, 5, 679, 5, 800, 0, None, 168819, 184)\n",
        "ca('Bret Harte Middle School Booster Club\\'s Run Turkey Run', 'San Jose', 11, 3, 82, 5, 840, 1, 30, 1030000, 986)\n",
        "ca('Bret Harte Middle School Booster Club\\'s Run Turkey Run', 'San Jose', 11, 3, 82, 10, 840, 1, 30, 1030000, 219)\n",
        "\n",
        "ca('Turkey Trot OC', 'Tustin', 11, 3, 138, 5, 800, 0, None, 79795, 505)\n",
        "ca('Om Run', 'Los Gatos', 4, 6, 364, 5, 845, 1, None, 30680, 670)\n",
        "ca('Om Run', 'Los Gatos', 4, 6, 364, 10,  830, 1, None, 30680, 306)\n",
        "ca('Om Run', 'Los Gatos', 4, 6, 364, 21.1, 700, 1, None, 30680, 99)\n",
        "ca('CA Best Friends 13.1 Relay', 'San Diego', 5, 5, 49, 21.1/2, 830, 1, 30, 1430000, 14)\n",
        "\n",
        "ca('CA Best Friends 13.1 Relay', 'San Diego', 5, 5, 49, 21.1, 830, 1,  30, 1430000, 7)\n",
        "ca('Fiesta Fun Run', 'Madera', 5, 5, 1019, 5, 830, 0, None, 65706, 76)\n",
        "ca('Kevin Blain Legacy Run', 'Tulare', 5, 5, 14465, 5, 730, 1, 25, 64475, 96)\n",
        "ca('Sonoma County Human Race', 'Santa Rosa', 5, 5, 164, 3, 800, 1, None, 177586, 40)\n",
        "ca('Sonoma County Human Race', 'Santa Rosa', 5, 5, 164, 10, 800, 1, None, 177586, 83)\n",
        "\n",
        "ca('Golden Gate Park 10k', 'San Francisco', 5, 6, 92, 10, 900, 0, 5, 881549, 214)\n",
        "ca('Gator Run', 'Moorpark', 5, 6, 515, 5, 745, 1, None, 36576, 234)\n",
        "ca('Gator Run', 'Moorpark', 5, 6, 515, 10, 730, 1, None, 36576, 56)\n",
        "ca('Long Beach Pride Run', 'Long Beach', 5, 6, 3, 5, 800, 1, 35, 467354, 113)\n",
        "ca('Long Beach Pride Run', 'Long Beach', 5, 6, 3, 10, 800, 1, 45, 467354, 61)\n",
        "\n",
        "ca('Ladin Subaru 805 Strong 5k', 'Thousand Oaks', 12, 6, 500, 5, 730, 0, 40, 127690, 527)\n",
        "ca('Santa Paws', 'Palm Springs', 12, 5, 479, 5, 900, 0, 45, 48375, 514)\n",
        "ca('Zero Prostate Cancer Run/Walk', 'San Diego', 9, 5, 49, 5, 900, 0, 40, 1430000, 276)\n",
        "ca('Village Runner 4th of July 5k Run', 'Redondo Beach', 7, 3, 62, 5, 800, 1, 38, 67412, 2179)\n",
        "ca('Mission Hills 5k', 'San Diego', 4, 5, 49, 5, 800, 0, 35, 1430000, 417)\n",
        "\n",
        "ca('St. Patrick\\'s Day 5k Run', 'Redondo Beach', 3, 6, 62, 5, 800, 1, 38, 67412, 1249)\n",
        "ca('Tails 2 Trails', 'Simi Valley', 3, 6, 768, 5, 900, 1, None, 125851, 48)\n",
        "ca('Tails 2 Trails', 'Simi Valley', 3, 6, 768, 10, 900, 1, None, 125851, 16)\n",
        "\n",
        "#USE THIS SITE!! https://my.racewire.com/results\n"
      ],
      "execution_count": null,
      "outputs": []
    },
    {
      "cell_type": "code",
      "metadata": {
        "id": "FaU1nNIlS46c"
      },
      "source": [
        "utah_data = np.array([])\n",
        "\n",
        "def ut(title, loc, month, day, elv, len, st, multiple, cost, city_pop, num_par):\n",
        "  \"\"\"Helper function for loading data into my numpy array for the state of Utah.\n",
        "  Parameters:\n",
        "    1. title: name of race  # not to be given to model\n",
        "    2. loc: race location   # not to be given to model\n",
        "    3. month: month of year (1-12)                          # catagorical\n",
        "    4. day: day of week                                     # cat\n",
        "          0- monday\n",
        "          1- tuesday\n",
        "          2- wednesday\n",
        "          3- thursday\n",
        "          4- friday\n",
        "          5- saturday\n",
        "          6- sunday\n",
        "    5. elv: elevation (ft)                                  # discrete\n",
        "    6. len: length of race (km)                             # discrete\n",
        "    7. st: start time in military time, without colon       # discrete\n",
        "    8: multiple: bool whether or not multiple races at that location, 1 True, 0 False  # cat\n",
        "    9. cost: cost (USD)                                     # discrete\n",
        "    10. city_pop: population of the city                    # discrete\n",
        "    11: num_par: number of participants (target)            # discrete\n",
        "\n",
        "  \"\"\"\n",
        "  CA.add_data(np.array([title, loc, month, day, elv, len, st, multiple, cost, city_pop, num_par]))"
      ],
      "execution_count": null,
      "outputs": []
    },
    {
      "cell_type": "code",
      "metadata": {
        "id": "GBp9rEtYxChJ"
      },
      "source": [
        "ut('St George Half', 'St. George', 1, 5, 2700, 21.08, 900, 1, 85, 84500, 582)\n",
        "ut('Salt Lake Race Series 5k', 'Salt Lake City', 2, 5, 4226, 5, 800, 0, 35, 197756, 692)\n",
        "ut('Candy Heart Run 5k', 'Midvale', 2, 5, 4383, 5, 900, 1, 45, 33318, 131)\n",
        "ut('Sweethearts 5k', 'Bountiful', 2, 2, 4797, 5, 900, 1, 25, 43901, 247)\n",
        "ut('Zions Half Marathon', 'Springdale', 2, 5, 4000, 21.08, 700, 0, 145, 346, 2186)\n",
        "ut('Monument Valley Ultra', 'Monument Valley', 3, 5, 5200, 50, 700, 1, 40, 864, 97)\n",
        "ut('Salt Lake Race Series 10k', 'Salt Lake City', 3, 5, 4226, 10, 800, 0, 45, 197756, 631)\n",
        "ut('Southern Utah Half', 'Washington', 4, 5, 2792, 21.08, 700, 0, 75, 26583, 529)\n",
        "ut('Provo City Half Marathon', 'Provo', 5, 5, 4551, 21.08, 700, 1, 70, 116403, 453)\n",
        "ut('Provo City 5k', 'Provo', 5, 5, 4551, 5, 900, 1, 20, 116403, 231)\n",
        "ut('Dino Half', 'Vernal', 5, 5, 5328, 21.08, 730, 1, 95, 10574, 239)\n",
        "ut('Dino 5k', 'Vernal', 5, 5, 5328, 5, 800, 1, 35, 10574, 190)\n",
        "ut('Salt Lake Race Series 15k', 'Salt Lake City', 4, 5, 4226, 15, 800, 0, 45, 197756, 554)\n",
        "ut('Ogden Marathon', 'Ogden', 5, 5, 4941, 42.2, 700, 1, 55, 87773, 1067)\n",
        "ut('Ogden Half Marathon', 'Ogden', 5, 5, 4941, 21.08, 700, 1, 50, 87773, 2856)\n",
        "ut('Riverton Country', 'Brighton', 7, 5, 8707, 10, 800, 1, 15, 260, 174)\n",
        "ut('Ogden 5k', 'Ogden', 5, 5, 4941, 5, 700, 1, 30, 87773, 495)\n",
        "ut('South Mountain Half Marathon', 'Draper', 4, 5, 4501, 21.08, 700, 1, 55, 48319, 75)\n",
        "ut('Park City 10k', 'Park City', 7, 5, 6900, 10, 800, 1, 40, 8504, 331)\n",
        "ut('Park City 5k', 'Park City', 7, 3, 6900, 5, 800, 1, 50, 8504, 314)\n",
        "ut('Utah Valley Marathon', 'Provo', 6, 5, 4551, 42.2, 600, 1, 110, 116403, 880)\n",
        "ut('South Mountain 5k', 'Draper', 4, 5, 4501, 5, 730, 1, 20, 48319, 45)\n",
        "ut('Utah Valley Half Marathon', 'Provo', 6, 5, 4551, 21.08, 600, 1, 100, 116403, 1187)\n",
        "ut('Corner Canyon Half', 'Draper', 6, 5, 4501, 21.08, 630, 1, 55, 48319, 101)\n",
        "ut('Jordan River Half Marathon', 'South Jordan', 9, 5, 4300, 21.08, 730, 0, 55, 74149, 124)\n",
        "ut('Top of Utah Half', 'Logan', 8, 5, 4500, 21.08, 700, 1, 80, 51619, 766)\n",
        "ut('Thankful 13', 'Lehi', 11, 3, 4491, 21.08, 745, 1, 70, 69724, 550)\n",
        "ut('Mt Nebo Marathon', 'Payson', 8, 5, 4698, 42.2, 600, 1, 100, 19826, 292)\n",
        "ut('Thankful 10k', 'Lehi', 11, 3, 4491, 10, 800, 1, 25, 69724, 405)\n",
        "ut('Haunted Half', 'Provo', 10, 2, 4551, 21.08, 800, 1, 80, 116403, 1149)\n",
        "ut('St. George Marathon', 'St. George', 10, 5, 2700, 42.2, 700, 0, 110, 84500, 3980)\n",
        "ut('Frigid 5k', 'Provo', 1, 5, 4551, 5, 900, 0, 23, 116403, 549)\n",
        "ut('Big Cottonwood Marathon', 'Salt Lake City', 9, 5, 4226, 42.2, 645, 1, 110, 197756, 1071)"
      ],
      "execution_count": null,
      "outputs": []
    },
    {
      "cell_type": "code",
      "metadata": {
        "id": "-jfr2yH6BNeJ"
      },
      "source": [
        "washington_data = np.array([])\n",
        "\n",
        "def was(title, loc, month, day, elv, len, st, multiple, cost, city_pop, num_par):\n",
        "  \"\"\"Helper function for loading data into my numpy array for the state of Washington.\n",
        "  Parameters:\n",
        "    1. title: name of race  # not to be given to model\n",
        "    2. loc: race location   # not to bet given\n",
        "    3. month: month of year (1-12)                          # catagorical\n",
        "    4. day: day of week                                     # cat\n",
        "          0- monday\n",
        "          1- tuesday\n",
        "          2- wednesday\n",
        "          3- thursday\n",
        "          4- friday\n",
        "          5- saturday\n",
        "          6- sunday\n",
        "    5. elv: elevation (ft)                                  # discrete\n",
        "    6. len: length of race (km)                             # discrete\n",
        "    7. st: start time in military time, without colon       # discrete\n",
        "    8: multiple: bool whether or not multiple races at that location, 1 True, 0 False  # cat\n",
        "    9. cost: cost (USD)                                     # discrete\n",
        "    10. city_pop: population of the city                    # discrete\n",
        "    11: num_par: number of participants (target)            # discrete\n",
        "\n",
        "  \"\"\"\n",
        "  CA.add_data(np.array([title, loc, month, day, elv, len, st, multiple, cost, city_pop, num_par]))"
      ],
      "execution_count": null,
      "outputs": []
    },
    {
      "cell_type": "code",
      "metadata": {
        "id": "rooCuBprBRdl"
      },
      "source": [
        "was('CNW Resolution Run', 'Seattle', 1, 2, 175, 5, 1030, 1, 40, 776555, 332)\n",
        "was('Prance N Plunge', 'Bremerton', 1, 2, 39, 3.4, 1000, 0, None, 40631, 79)\n",
        "was('Jayme Biendl Memorial Run', 'Monroe', 1, 6, 72, 5, 1000, 0, 30, 48241, 112)\n",
        "was('Northwest Trail Runs Interlaken Icicle Dash 10K', 'Seattle', 2, 5, 175, 10, 730, 1, 33, 776555, 94)\n",
        "was('Northwest Trail Runs Interlaken Icicle Dash 5K', 'Seattle', 2, 5, 175, 5, 730, 1, 33, 776555, 68)\n",
        "was('Valentine\\'s Day 5K', 'Olympia', 2, 5, 95, 5, 900, 0, 30, 51534, 372)\n",
        "was('Leprechaun 5K', 'Bremerton', 3, 6, 39, 5, 915, 1, 1, 40631, 179)\n",
        "was('Donut Dash 5K', 'Olympia', 3, 6, 95, 5, 900, 0, 30, 51534, 776) # num participants might be off\n",
        "was('Best Friends - Langus River Trail', 'Everett', 4, 5, 82, 10, 830, 0, 50, 109766, 175) # might have to be used as a prediction, set output to avg of washington\n",
        "was('Flight for Sight Fun Run 10K', 'Everett', 6, 5, 82, 10, 900, 1, 30, 109766, 12)\n",
        "was('Flight for Sight Fun Run 5K', 'Everett', 6, 5, 82, 5, 900, 1, 30, 109766, 30)\n",
        "was('Roosevelt 5K', 'Olympia', 6, 5, 95, 5, None, 0, None, 51434, 210)\n",
        "was('5K Race & Walk for Humanity', 'Seattle', 7, 5, 175, 5, 1000, 0, None, 776555, 64)\n",
        "was('Everett AquaSox 5K', 'Everett', 7, 5, 82, 5, 930, 0, None, 109766, 238)\n",
        "was('U District Summer Series', 'Spokane', 7, 1, 1843, 5, None, 1, None, 217353, 595)\n",
        "was('SpoKenya Run', 'Spokane', 7, 5, 1843, 7, 900, 0, 29, 217252, 624)\n",
        "was('Glow Run 5K', 'Olympia', 7, 4, 95, 5, 900, 0, 35, 51534, 284)\n",
        "was('Shorelilne Sports Foundation Sports Jam 5K', 'Seattle', 8, 5, 1030, 5, 900, 0, 25, 776555, 175) #rip, set output to avg of washington\n",
        "was('Race for the Homeless 10K', 'Vancouver', 8, 5, 171, 10, 800, 1, 15, 180556, 140)\n",
        "was('Stilly Fun Run', 'Arlington', 8, 5, 115, 5, 900, 0, 15, 19483, 65)\n",
        "was('Woodland Park Zoom 10K', 'Seattle', 9, 1, 175, 10, 1500, 1, 31, 776555, 17)\n",
        "was('Woodland Park Zoom 5K', 'Seattle', 9, 1, 175, 5, 1500, 1, 27, 776555, 39)\n",
        "was('Seattle Run Series - Fal Series at Alki Beach - Race #1 10K', 'Seattle', 9, 6, 175, 10, None, 1, None, 776555, 200)\n",
        "was('Seattle Run Series - Fall Series at Alki Beach - Race #1 5K', 'Seattle', 9, 6, 175, 5, None, 1, None, 776555, 250)\n",
        "was('Run the Mountain - 15K', 'Issaquah', 9, 5, 108, 15, 900, 1, 55, 37965, 10)\n",
        "was('Run the Mountain - 10K', 'Issaquah', 9, 5, 108, 10, 900, 1, 55, 37965, 30)\n",
        "was('Run the Mountain - 5K', 'Issaquah', 9, 5, 108, 5, 900, 1, 55, 37965, 40)\n",
        "was('Emerald City Open - 4K', 'Seattle', 9, 5, 175, 4, 1000, 1, 10, 776555, 10)\n",
        "was('Emerald City Open - 2K', 'Seattle', 9, 5, 175, 2, 1000, 1, 10, 776555, 80)\n",
        "was('Spooktacular 5K Sprint', 'Olympia', 10, 5, 95, 5, 900, 0, 30, 51534, 180)\n",
        "was('Deception Pass 25K', 'Oak Harbor', 12, 6, 92, 25, 900, 1, None, 23089, 100)\n",
        "was('Auburn Turkey Trot 5K', 'Auburn', 11, 3, 1227, 5, None, 0, None, 64054, 122)"
      ],
      "execution_count": null,
      "outputs": []
    },
    {
      "cell_type": "code",
      "metadata": {
        "colab": {
          "base_uri": "https://localhost:8080/",
          "height": 573
        },
        "id": "gOS17LFLDx24",
        "outputId": "54c3b8c5-1031-46f1-8401-571bef5da86a"
      },
      "source": [
        "CA.evaluate_output(plot='boxplot')\n",
        "CA.evaluate_output(plot='violin')"
      ],
      "execution_count": null,
      "outputs": [
        {
          "output_type": "display_data",
          "data": {
            "image/png": "[encoded data removed]",
            "text/plain": [
              "<Figure size 432x288 with 1 Axes>"
            ]
          },
          "metadata": {
            "tags": [],
            "needs_background": "light"
          }
        },
        {
          "output_type": "display_data",
          "data": {
            "image/png": "[encoded data removed]",
            "text/plain": [
              "<Figure size 432x288 with 1 Axes>"
            ]
          },
          "metadata": {
            "tags": [],
            "needs_background": "light"
          }
        }
      ]
    },
    {
      "cell_type": "code",
      "metadata": {
        "colab": {
          "base_uri": "https://localhost:8080/",
          "height": 573
        },
        "id": "Lw9IEuubOzQ-",
        "outputId": "c136ba0e-2168-4efd-d256-28d2a81113fe"
      },
      "source": [
        "X, y = CA.normalizing_data()\n",
        "CA.evaluate_output(y = y)\n",
        "CA.evaluate_output(plot='violin', y = y)"
      ],
      "execution_count": null,
      "outputs": [
        {
          "output_type": "display_data",
          "data": {
            "image/png": "[encoded data removed]",
            "text/plain": [
              "<Figure size 432x288 with 1 Axes>"
            ]
          },
          "metadata": {
            "tags": [],
            "needs_background": "light"
          }
        },
        {
          "output_type": "display_data",
          "data": {
            "image/png": "[encoded data removed]",
            "text/plain": [
              "<Figure size 432x288 with 1 Axes>"
            ]
          },
          "metadata": {
            "tags": [],
            "needs_background": "light"
          }
        }
      ]
    },
    {
      "cell_type": "code",
      "metadata": {
        "id": "_g4KkC3QpPTe"
      },
      "source": [
        "#title, loc, month, day, elv, len, st, multiple, cost, city_pop, num_par]))\n",
        "X = X[:,[2,3,4,6,8,9]]"
      ],
      "execution_count": null,
      "outputs": []
    },
    {
      "cell_type": "code",
      "metadata": {
        "id": "fAp-bPlbZ9S6"
      },
      "source": [
        "def condenseX(X):\n",
        "  XNormal = copy.deepcopy(X)\n",
        "  XNormal = XNormal / XNormal.max(axis=0)\n",
        "  return np.sum(XNormal, axis=0)\n"
      ],
      "execution_count": null,
      "outputs": []
    },
    {
      "cell_type": "code",
      "metadata": {
        "id": "74ydfjtDoCNF"
      },
      "source": [
        "def destringifyX(X):\n",
        "  for i in range(X.shape[0]):\n",
        "    for j in range(X.shape[1]):\n",
        "      X[i][j] = float(X[i][j])"
      ],
      "execution_count": null,
      "outputs": []
    },
    {
      "cell_type": "code",
      "metadata": {
        "id": "IcymWtAbfM17",
        "colab": {
          "base_uri": "https://localhost:8080/"
        },
        "outputId": "aef88576-cc85-4ab6-f969-b51c84cf7452"
      },
      "source": [
        "def bin_dataset(y, num_bins): # bin by height\n",
        "\n",
        "    a = len(y)\n",
        "    y2 = np.sort(y)\n",
        "    n = int(a / num_bins)\n",
        "    n = int(a / num_bins)\n",
        "    for i in range(0, num_bins):\n",
        "        arr = []\n",
        "        for j in range(i * n, (i + 1) * n):\n",
        "            if j >= a:\n",
        "                break\n",
        "            arr = arr + [y2[j]]\n",
        "        print(arr)\n",
        "\n",
        "bin_dataset(y, 4)"
      ],
      "execution_count": null,
      "outputs": [
        {
          "output_type": "stream",
          "text": [
            "[7, 14, 16, 40, 48, 56, 61]\n",
            "[76, 83, 96, 99, 113, 146, 184]\n",
            "[186, 196, 214, 219, 234, 276, 306]\n",
            "[383, 414, 417, 505, 514, 527, 670]\n"
          ],
          "name": "stdout"
        }
      ]
    },
    {
      "cell_type": "code",
      "metadata": {
        "id": "UUTZDptmty7I"
      },
      "source": [
        "new_y = []\n",
        "for y_val in y:\n",
        "  if y_val < 300:\n",
        "    new_y.append(0)\n",
        "  elif y_val < 600:\n",
        "    new_y.append(1)\n",
        "  elif y_val < 900:\n",
        "    new_y.append(2)\n",
        "  else:\n",
        "    new_y.append(3)\n",
        "\n",
        "y = np.array(new_y)\n",
        "  "
      ],
      "execution_count": null,
      "outputs": []
    },
    {
      "cell_type": "code",
      "metadata": {
        "colab": {
          "base_uri": "https://localhost:8080/"
        },
        "id": "qxinJtzQufPh",
        "outputId": "f9952923-40fc-4a17-ccce-be08d52bc045"
      },
      "source": [
        "y"
      ],
      "execution_count": null,
      "outputs": [
        {
          "output_type": "execute_result",
          "data": {
            "text/plain": [
              "array([1, 0, 0, 0, 1, 0, 0, 1, 2, 1, 0, 0, 0, 0, 0, 0, 0, 0, 0, 0, 0, 0,\n",
              "       1, 1, 0, 1, 0, 0])"
            ]
          },
          "metadata": {
            "tags": []
          },
          "execution_count": 26
        }
      ]
    },
    {
      "cell_type": "markdown",
      "metadata": {
        "id": "JkdCv3HYG1m7"
      },
      "source": [
        "Output Classes\n",
        "\n",
        "0: x < 0.068 ~ < 80\n",
        "\n",
        "1: 0.068 <= x < 0.17 ~ < 190\n",
        "\n",
        "2: 0.17 <= x < 0.375 ~ < 410\n",
        "\n",
        "3: x >= 0.375 ~ >= 410"
      ]
    },
    {
      "cell_type": "code",
      "metadata": {
        "colab": {
          "base_uri": "https://localhost:8080/"
        },
        "id": "XHojvQULJQHB",
        "outputId": "d28d7e55-816b-4ef5-cb6c-0514a6032b41"
      },
      "source": [
        "print(y)\n",
        "# bins y y height\n",
        "#for i in range(y.shape[0]):\n",
        "#  if y[i] < 80:\n",
        "#    y[i] = 0\n",
        "#  elif y[i] < 190:\n",
        "#    y[i] = 1\n",
        "#  elif y[i] < 410:\n",
        "#    y[i] = 2\n",
        "#  else:\n",
        "#    y[i] = 3\n",
        "\n",
        "print(y)"
      ],
      "execution_count": null,
      "outputs": [
        {
          "output_type": "stream",
          "text": [
            "[1 0 0 0 1 0 3 0 1 2 1 0 0 0 0 0 0 0 0 0 0 0 0 1 1 0 1 0 0 1 2 0 0 0 2 1 1\n",
            " 0 0 0 1 3 0 1 0 1 1 2 0 0 0 2 1 0 1 1 3 1 0 0 0 0 1 0 2 0 0 0 0 0 0 1 2 0\n",
            " 0 0 0 0 0 0 0 0 0 0 0 0 0 0 0]\n",
            "[1 0 0 0 1 0 3 0 1 2 1 0 0 0 0 0 0 0 0 0 0 0 0 1 1 0 1 0 0 1 2 0 0 0 2 1 1\n",
            " 0 0 0 1 3 0 1 0 1 1 2 0 0 0 2 1 0 1 1 3 1 0 0 0 0 1 0 2 0 0 0 0 0 0 1 2 0\n",
            " 0 0 0 0 0 0 0 0 0 0 0 0 0 0 0]\n"
          ],
          "name": "stdout"
        }
      ]
    },
    {
      "cell_type": "markdown",
      "metadata": {
        "id": "QHvsqNNAG4cT"
      },
      "source": [
        "# Random Guess\n",
        "\n"
      ]
    },
    {
      "cell_type": "code",
      "metadata": {
        "id": "7kIPzsdbG97h"
      },
      "source": [
        "from sklearn.model_selection import train_test_split\n",
        "import random"
      ],
      "execution_count": null,
      "outputs": []
    },
    {
      "cell_type": "code",
      "metadata": {
        "colab": {
          "base_uri": "https://localhost:8080/",
          "height": 336
        },
        "id": "Vb33juqmHT3w",
        "outputId": "14dbb7d4-8bcb-4f46-a339-eb3a2f296fdc"
      },
      "source": [
        "r_scores = np.zeros(100)\n",
        "\n",
        "for i in range(100):\n",
        "  trainRX, testRX, trainRy, testRy = train_test_split(X, y, test_size=0.33)\n",
        "\n",
        "  num_correct = 0\n",
        "  for t_y in testRy:\n",
        "    if random.randint(0,3) == t_y:\n",
        "      num_correct += 1\n",
        "  \n",
        "  r_scores[i] = float(num_correct)/float(testRy.shape[0])\n",
        "\n",
        "print(\"Max Score = \", np.amax(r_scores))\n",
        "print(\"Min Score = \", np.amin(r_scores))\n",
        "print(\"Avg Score = \", np.mean(r_scores))\n",
        "\n",
        "plt.violinplot(r_scores, vert=False)\n",
        "plt.title(\"Random Accuracies \")\n",
        "plt.show()"
      ],
      "execution_count": null,
      "outputs": [
        {
          "output_type": "stream",
          "text": [
            "Max Score =  0.5\n",
            "Min Score =  0.06666666666666667\n",
            "Avg Score =  0.245\n"
          ],
          "name": "stdout"
        },
        {
          "output_type": "display_data",
          "data": {
            "image/png": "[encoded data removed]",
            "text/plain": [
              "<Figure size 432x288 with 1 Axes>"
            ]
          },
          "metadata": {
            "tags": [],
            "needs_background": "light"
          }
        }
      ]
    },
    {
      "cell_type": "markdown",
      "metadata": {
        "id": "ICeRu6QUbTbh"
      },
      "source": [
        "# WHAT MODEL ARE WE USING?\n",
        "- Perceptron - Alex\n",
        "- Backprop - Taila\n",
        "- Decision Tree - Josh\n",
        "- KNN - Alex (Did this one for fun)"
      ]
    },
    {
      "cell_type": "markdown",
      "metadata": {
        "id": "gNjqxINdCTTO"
      },
      "source": [
        "# Decision Tree"
      ]
    },
    {
      "cell_type": "code",
      "metadata": {
        "id": "Xx3ypegXCNq8"
      },
      "source": [
        "from sklearn import tree\n",
        "import copy"
      ],
      "execution_count": null,
      "outputs": []
    },
    {
      "cell_type": "code",
      "metadata": {
        "id": "Es9j48vICrOJ"
      },
      "source": [
        "values = copy.deepcopy(X)\n",
        "values = values[:,2:]\n",
        "values = values.astype('float')#np.round(values, 4)"
      ],
      "execution_count": null,
      "outputs": []
    },
    {
      "cell_type": "code",
      "metadata": {
        "id": "Pfnn2I9q5ZZS"
      },
      "source": [
        "from sklearn.model_selection import train_test_split\n",
        "X_train, X_test, y_train, y_test = train_test_split(values, y, test_size=0.33, random_state=42)"
      ],
      "execution_count": null,
      "outputs": []
    },
    {
      "cell_type": "code",
      "metadata": {
        "id": "xQze148yERTS",
        "colab": {
          "base_uri": "https://localhost:8080/",
          "height": 336
        },
        "outputId": "3a2384b4-03dc-4b12-dce2-8be274dbf64f"
      },
      "source": [
        "dt_scores = []\n",
        "\n",
        "for i in range(100):\n",
        "  dt = tree.DecisionTreeClassifier(max_depth=30, criterion='entropy')\n",
        "  dt = dt.fit(X_train, y_train)\n",
        "  dt_scores.append(dt.score(X_test, y_test))\n",
        "\n",
        "dt_scores = np.array(dt_scores)\n",
        "\n",
        "print(\"Max Score = \", np.round(np.amax(dt_scores),4))\n",
        "print(\"Min Score = \", np.round(np.amin(dt_scores), 4))\n",
        "print(\"Avg Score = \", np.round(np.mean(dt_scores), 4))\n",
        "\n",
        "plt.violinplot(dt_scores, vert=False)\n",
        "plt.title(\"Decision Tree Accuracies \")\n",
        "plt.show()"
      ],
      "execution_count": null,
      "outputs": [
        {
          "output_type": "stream",
          "text": [
            "Max Score =  0.5333\n",
            "Min Score =  0.5\n",
            "Avg Score =  0.5167\n"
          ],
          "name": "stdout"
        },
        {
          "output_type": "display_data",
          "data": {
            "image/png": "[encoded data removed]",
            "text/plain": [
              "<Figure size 432x288 with 1 Axes>"
            ]
          },
          "metadata": {
            "tags": [],
            "needs_background": "light"
          }
        }
      ]
    },
    {
      "cell_type": "markdown",
      "metadata": {
        "id": "NUnLtXphmgX2"
      },
      "source": [
        "# Backprop"
      ]
    },
    {
      "cell_type": "markdown",
      "metadata": {
        "id": "NIpohxKhBOrH"
      },
      "source": [
        "back prop info:\n",
        "\n",
        "layer size: 55, lr: .1\n",
        "\n",
        "Max Score =  0.3667\n",
        "Min Score =  0.2\n",
        "Avg Score =  0.2417\n",
        "\n",
        "layer size: 55, lr: .01 \n",
        "\n",
        "Max Score =  0.43333333333333335\n",
        "Min Score =  0.13333333333333333\n",
        "Avg Score =  0.29766666666666663\n",
        "\n",
        "\n",
        "layer size: 55 lr: .001 \n",
        "\n",
        "Max Score =  0.5\n",
        "Min Score =  0.16666666666666666\n",
        "Avg Score =  0.288\n",
        "\n",
        "layer size: 55 lr: .0001 \n",
        "\n",
        "Max Score =  0.4\n",
        "Min Score =  0.1\n",
        "Avg Score =  0.2463\n",
        "\n",
        "layer size: 55 lr: .00001 \n",
        "\n",
        "Max Score =  0.4\n",
        "Min Score =  0.1667\n",
        "Avg Score =  0.25"
      ]
    },
    {
      "cell_type": "code",
      "metadata": {
        "id": "gFfusS_6EzDj",
        "colab": {
          "base_uri": "https://localhost:8080/",
          "height": 1000
        },
        "outputId": "8186cc4c-9d08-4dc5-95a2-f1d6d4531079"
      },
      "source": [
        "from sklearn.neural_network import MLPClassifier as BackProp\n",
        "\n",
        "scores = []\n",
        "\n",
        "for i in range(100):\n",
        "  B = BackProp(hidden_layer_sizes=150, activation='relu', learning_rate_init=.01, max_iter=500)\n",
        "  B.fit(X_train, y_train)\n",
        "  \n",
        "  scores.append(B.score(X_test, y_test))\n",
        "\n",
        "scores = np.array(scores)\n",
        "\n",
        "print(\"Max Score = \", np.round(np.amax(scores),4))\n",
        "print(\"Min Score = \", np.round(np.amin(scores), 4))\n",
        "print(\"Avg Score = \", np.round(np.mean(scores), 4))\n",
        "\n",
        "plt.violinplot(scores, vert=False)\n",
        "plt.title(\"BackPropagation Accuracies for Utah\")\n",
        "plt.show()"
      ],
      "execution_count": null,
      "outputs": [
        {
          "output_type": "stream",
          "text": [
            "/usr/local/lib/python3.7/dist-packages/sklearn/neural_network/_multilayer_perceptron.py:571: ConvergenceWarning: Stochastic Optimizer: Maximum iterations (500) reached and the optimization hasn't converged yet.\n",
            "  % self.max_iter, ConvergenceWarning)\n",
            "/usr/local/lib/python3.7/dist-packages/sklearn/neural_network/_multilayer_perceptron.py:571: ConvergenceWarning: Stochastic Optimizer: Maximum iterations (500) reached and the optimization hasn't converged yet.\n",
            "  % self.max_iter, ConvergenceWarning)\n",
            "/usr/local/lib/python3.7/dist-packages/sklearn/neural_network/_multilayer_perceptron.py:571: ConvergenceWarning: Stochastic Optimizer: Maximum iterations (500) reached and the optimization hasn't converged yet.\n",
            "  % self.max_iter, ConvergenceWarning)\n",
            "/usr/local/lib/python3.7/dist-packages/sklearn/neural_network/_multilayer_perceptron.py:571: ConvergenceWarning: Stochastic Optimizer: Maximum iterations (500) reached and the optimization hasn't converged yet.\n",
            "  % self.max_iter, ConvergenceWarning)\n",
            "/usr/local/lib/python3.7/dist-packages/sklearn/neural_network/_multilayer_perceptron.py:571: ConvergenceWarning: Stochastic Optimizer: Maximum iterations (500) reached and the optimization hasn't converged yet.\n",
            "  % self.max_iter, ConvergenceWarning)\n",
            "/usr/local/lib/python3.7/dist-packages/sklearn/neural_network/_multilayer_perceptron.py:571: ConvergenceWarning: Stochastic Optimizer: Maximum iterations (500) reached and the optimization hasn't converged yet.\n",
            "  % self.max_iter, ConvergenceWarning)\n",
            "/usr/local/lib/python3.7/dist-packages/sklearn/neural_network/_multilayer_perceptron.py:571: ConvergenceWarning: Stochastic Optimizer: Maximum iterations (500) reached and the optimization hasn't converged yet.\n",
            "  % self.max_iter, ConvergenceWarning)\n",
            "/usr/local/lib/python3.7/dist-packages/sklearn/neural_network/_multilayer_perceptron.py:571: ConvergenceWarning: Stochastic Optimizer: Maximum iterations (500) reached and the optimization hasn't converged yet.\n",
            "  % self.max_iter, ConvergenceWarning)\n",
            "/usr/local/lib/python3.7/dist-packages/sklearn/neural_network/_multilayer_perceptron.py:571: ConvergenceWarning: Stochastic Optimizer: Maximum iterations (500) reached and the optimization hasn't converged yet.\n",
            "  % self.max_iter, ConvergenceWarning)\n",
            "/usr/local/lib/python3.7/dist-packages/sklearn/neural_network/_multilayer_perceptron.py:571: ConvergenceWarning: Stochastic Optimizer: Maximum iterations (500) reached and the optimization hasn't converged yet.\n",
            "  % self.max_iter, ConvergenceWarning)\n",
            "/usr/local/lib/python3.7/dist-packages/sklearn/neural_network/_multilayer_perceptron.py:571: ConvergenceWarning: Stochastic Optimizer: Maximum iterations (500) reached and the optimization hasn't converged yet.\n",
            "  % self.max_iter, ConvergenceWarning)\n",
            "/usr/local/lib/python3.7/dist-packages/sklearn/neural_network/_multilayer_perceptron.py:571: ConvergenceWarning: Stochastic Optimizer: Maximum iterations (500) reached and the optimization hasn't converged yet.\n",
            "  % self.max_iter, ConvergenceWarning)\n",
            "/usr/local/lib/python3.7/dist-packages/sklearn/neural_network/_multilayer_perceptron.py:571: ConvergenceWarning: Stochastic Optimizer: Maximum iterations (500) reached and the optimization hasn't converged yet.\n",
            "  % self.max_iter, ConvergenceWarning)\n",
            "/usr/local/lib/python3.7/dist-packages/sklearn/neural_network/_multilayer_perceptron.py:571: ConvergenceWarning: Stochastic Optimizer: Maximum iterations (500) reached and the optimization hasn't converged yet.\n",
            "  % self.max_iter, ConvergenceWarning)\n",
            "/usr/local/lib/python3.7/dist-packages/sklearn/neural_network/_multilayer_perceptron.py:571: ConvergenceWarning: Stochastic Optimizer: Maximum iterations (500) reached and the optimization hasn't converged yet.\n",
            "  % self.max_iter, ConvergenceWarning)\n",
            "/usr/local/lib/python3.7/dist-packages/sklearn/neural_network/_multilayer_perceptron.py:571: ConvergenceWarning: Stochastic Optimizer: Maximum iterations (500) reached and the optimization hasn't converged yet.\n",
            "  % self.max_iter, ConvergenceWarning)\n",
            "/usr/local/lib/python3.7/dist-packages/sklearn/neural_network/_multilayer_perceptron.py:571: ConvergenceWarning: Stochastic Optimizer: Maximum iterations (500) reached and the optimization hasn't converged yet.\n",
            "  % self.max_iter, ConvergenceWarning)\n",
            "/usr/local/lib/python3.7/dist-packages/sklearn/neural_network/_multilayer_perceptron.py:571: ConvergenceWarning: Stochastic Optimizer: Maximum iterations (500) reached and the optimization hasn't converged yet.\n",
            "  % self.max_iter, ConvergenceWarning)\n",
            "/usr/local/lib/python3.7/dist-packages/sklearn/neural_network/_multilayer_perceptron.py:571: ConvergenceWarning: Stochastic Optimizer: Maximum iterations (500) reached and the optimization hasn't converged yet.\n",
            "  % self.max_iter, ConvergenceWarning)\n",
            "/usr/local/lib/python3.7/dist-packages/sklearn/neural_network/_multilayer_perceptron.py:571: ConvergenceWarning: Stochastic Optimizer: Maximum iterations (500) reached and the optimization hasn't converged yet.\n",
            "  % self.max_iter, ConvergenceWarning)\n",
            "/usr/local/lib/python3.7/dist-packages/sklearn/neural_network/_multilayer_perceptron.py:571: ConvergenceWarning: Stochastic Optimizer: Maximum iterations (500) reached and the optimization hasn't converged yet.\n",
            "  % self.max_iter, ConvergenceWarning)\n",
            "/usr/local/lib/python3.7/dist-packages/sklearn/neural_network/_multilayer_perceptron.py:571: ConvergenceWarning: Stochastic Optimizer: Maximum iterations (500) reached and the optimization hasn't converged yet.\n",
            "  % self.max_iter, ConvergenceWarning)\n",
            "/usr/local/lib/python3.7/dist-packages/sklearn/neural_network/_multilayer_perceptron.py:571: ConvergenceWarning: Stochastic Optimizer: Maximum iterations (500) reached and the optimization hasn't converged yet.\n",
            "  % self.max_iter, ConvergenceWarning)\n",
            "/usr/local/lib/python3.7/dist-packages/sklearn/neural_network/_multilayer_perceptron.py:571: ConvergenceWarning: Stochastic Optimizer: Maximum iterations (500) reached and the optimization hasn't converged yet.\n",
            "  % self.max_iter, ConvergenceWarning)\n",
            "/usr/local/lib/python3.7/dist-packages/sklearn/neural_network/_multilayer_perceptron.py:571: ConvergenceWarning: Stochastic Optimizer: Maximum iterations (500) reached and the optimization hasn't converged yet.\n",
            "  % self.max_iter, ConvergenceWarning)\n",
            "/usr/local/lib/python3.7/dist-packages/sklearn/neural_network/_multilayer_perceptron.py:571: ConvergenceWarning: Stochastic Optimizer: Maximum iterations (500) reached and the optimization hasn't converged yet.\n",
            "  % self.max_iter, ConvergenceWarning)\n",
            "/usr/local/lib/python3.7/dist-packages/sklearn/neural_network/_multilayer_perceptron.py:571: ConvergenceWarning: Stochastic Optimizer: Maximum iterations (500) reached and the optimization hasn't converged yet.\n",
            "  % self.max_iter, ConvergenceWarning)\n",
            "/usr/local/lib/python3.7/dist-packages/sklearn/neural_network/_multilayer_perceptron.py:571: ConvergenceWarning: Stochastic Optimizer: Maximum iterations (500) reached and the optimization hasn't converged yet.\n",
            "  % self.max_iter, ConvergenceWarning)\n",
            "/usr/local/lib/python3.7/dist-packages/sklearn/neural_network/_multilayer_perceptron.py:571: ConvergenceWarning: Stochastic Optimizer: Maximum iterations (500) reached and the optimization hasn't converged yet.\n",
            "  % self.max_iter, ConvergenceWarning)\n",
            "/usr/local/lib/python3.7/dist-packages/sklearn/neural_network/_multilayer_perceptron.py:571: ConvergenceWarning: Stochastic Optimizer: Maximum iterations (500) reached and the optimization hasn't converged yet.\n",
            "  % self.max_iter, ConvergenceWarning)\n",
            "/usr/local/lib/python3.7/dist-packages/sklearn/neural_network/_multilayer_perceptron.py:571: ConvergenceWarning: Stochastic Optimizer: Maximum iterations (500) reached and the optimization hasn't converged yet.\n",
            "  % self.max_iter, ConvergenceWarning)\n",
            "/usr/local/lib/python3.7/dist-packages/sklearn/neural_network/_multilayer_perceptron.py:571: ConvergenceWarning: Stochastic Optimizer: Maximum iterations (500) reached and the optimization hasn't converged yet.\n",
            "  % self.max_iter, ConvergenceWarning)\n",
            "/usr/local/lib/python3.7/dist-packages/sklearn/neural_network/_multilayer_perceptron.py:571: ConvergenceWarning: Stochastic Optimizer: Maximum iterations (500) reached and the optimization hasn't converged yet.\n",
            "  % self.max_iter, ConvergenceWarning)\n",
            "/usr/local/lib/python3.7/dist-packages/sklearn/neural_network/_multilayer_perceptron.py:571: ConvergenceWarning: Stochastic Optimizer: Maximum iterations (500) reached and the optimization hasn't converged yet.\n",
            "  % self.max_iter, ConvergenceWarning)\n",
            "/usr/local/lib/python3.7/dist-packages/sklearn/neural_network/_multilayer_perceptron.py:571: ConvergenceWarning: Stochastic Optimizer: Maximum iterations (500) reached and the optimization hasn't converged yet.\n",
            "  % self.max_iter, ConvergenceWarning)\n",
            "/usr/local/lib/python3.7/dist-packages/sklearn/neural_network/_multilayer_perceptron.py:571: ConvergenceWarning: Stochastic Optimizer: Maximum iterations (500) reached and the optimization hasn't converged yet.\n",
            "  % self.max_iter, ConvergenceWarning)\n",
            "/usr/local/lib/python3.7/dist-packages/sklearn/neural_network/_multilayer_perceptron.py:571: ConvergenceWarning: Stochastic Optimizer: Maximum iterations (500) reached and the optimization hasn't converged yet.\n",
            "  % self.max_iter, ConvergenceWarning)\n",
            "/usr/local/lib/python3.7/dist-packages/sklearn/neural_network/_multilayer_perceptron.py:571: ConvergenceWarning: Stochastic Optimizer: Maximum iterations (500) reached and the optimization hasn't converged yet.\n",
            "  % self.max_iter, ConvergenceWarning)\n",
            "/usr/local/lib/python3.7/dist-packages/sklearn/neural_network/_multilayer_perceptron.py:571: ConvergenceWarning: Stochastic Optimizer: Maximum iterations (500) reached and the optimization hasn't converged yet.\n",
            "  % self.max_iter, ConvergenceWarning)\n",
            "/usr/local/lib/python3.7/dist-packages/sklearn/neural_network/_multilayer_perceptron.py:571: ConvergenceWarning: Stochastic Optimizer: Maximum iterations (500) reached and the optimization hasn't converged yet.\n",
            "  % self.max_iter, ConvergenceWarning)\n",
            "/usr/local/lib/python3.7/dist-packages/sklearn/neural_network/_multilayer_perceptron.py:571: ConvergenceWarning: Stochastic Optimizer: Maximum iterations (500) reached and the optimization hasn't converged yet.\n",
            "  % self.max_iter, ConvergenceWarning)\n",
            "/usr/local/lib/python3.7/dist-packages/sklearn/neural_network/_multilayer_perceptron.py:571: ConvergenceWarning: Stochastic Optimizer: Maximum iterations (500) reached and the optimization hasn't converged yet.\n",
            "  % self.max_iter, ConvergenceWarning)\n",
            "/usr/local/lib/python3.7/dist-packages/sklearn/neural_network/_multilayer_perceptron.py:571: ConvergenceWarning: Stochastic Optimizer: Maximum iterations (500) reached and the optimization hasn't converged yet.\n",
            "  % self.max_iter, ConvergenceWarning)\n",
            "/usr/local/lib/python3.7/dist-packages/sklearn/neural_network/_multilayer_perceptron.py:571: ConvergenceWarning: Stochastic Optimizer: Maximum iterations (500) reached and the optimization hasn't converged yet.\n",
            "  % self.max_iter, ConvergenceWarning)\n",
            "/usr/local/lib/python3.7/dist-packages/sklearn/neural_network/_multilayer_perceptron.py:571: ConvergenceWarning: Stochastic Optimizer: Maximum iterations (500) reached and the optimization hasn't converged yet.\n",
            "  % self.max_iter, ConvergenceWarning)\n",
            "/usr/local/lib/python3.7/dist-packages/sklearn/neural_network/_multilayer_perceptron.py:571: ConvergenceWarning: Stochastic Optimizer: Maximum iterations (500) reached and the optimization hasn't converged yet.\n",
            "  % self.max_iter, ConvergenceWarning)\n",
            "/usr/local/lib/python3.7/dist-packages/sklearn/neural_network/_multilayer_perceptron.py:571: ConvergenceWarning: Stochastic Optimizer: Maximum iterations (500) reached and the optimization hasn't converged yet.\n",
            "  % self.max_iter, ConvergenceWarning)\n",
            "/usr/local/lib/python3.7/dist-packages/sklearn/neural_network/_multilayer_perceptron.py:571: ConvergenceWarning: Stochastic Optimizer: Maximum iterations (500) reached and the optimization hasn't converged yet.\n",
            "  % self.max_iter, ConvergenceWarning)\n",
            "/usr/local/lib/python3.7/dist-packages/sklearn/neural_network/_multilayer_perceptron.py:571: ConvergenceWarning: Stochastic Optimizer: Maximum iterations (500) reached and the optimization hasn't converged yet.\n",
            "  % self.max_iter, ConvergenceWarning)\n",
            "/usr/local/lib/python3.7/dist-packages/sklearn/neural_network/_multilayer_perceptron.py:571: ConvergenceWarning: Stochastic Optimizer: Maximum iterations (500) reached and the optimization hasn't converged yet.\n",
            "  % self.max_iter, ConvergenceWarning)\n",
            "/usr/local/lib/python3.7/dist-packages/sklearn/neural_network/_multilayer_perceptron.py:571: ConvergenceWarning: Stochastic Optimizer: Maximum iterations (500) reached and the optimization hasn't converged yet.\n",
            "  % self.max_iter, ConvergenceWarning)\n",
            "/usr/local/lib/python3.7/dist-packages/sklearn/neural_network/_multilayer_perceptron.py:571: ConvergenceWarning: Stochastic Optimizer: Maximum iterations (500) reached and the optimization hasn't converged yet.\n",
            "  % self.max_iter, ConvergenceWarning)\n",
            "/usr/local/lib/python3.7/dist-packages/sklearn/neural_network/_multilayer_perceptron.py:571: ConvergenceWarning: Stochastic Optimizer: Maximum iterations (500) reached and the optimization hasn't converged yet.\n",
            "  % self.max_iter, ConvergenceWarning)\n",
            "/usr/local/lib/python3.7/dist-packages/sklearn/neural_network/_multilayer_perceptron.py:571: ConvergenceWarning: Stochastic Optimizer: Maximum iterations (500) reached and the optimization hasn't converged yet.\n",
            "  % self.max_iter, ConvergenceWarning)\n",
            "/usr/local/lib/python3.7/dist-packages/sklearn/neural_network/_multilayer_perceptron.py:571: ConvergenceWarning: Stochastic Optimizer: Maximum iterations (500) reached and the optimization hasn't converged yet.\n",
            "  % self.max_iter, ConvergenceWarning)\n",
            "/usr/local/lib/python3.7/dist-packages/sklearn/neural_network/_multilayer_perceptron.py:571: ConvergenceWarning: Stochastic Optimizer: Maximum iterations (500) reached and the optimization hasn't converged yet.\n",
            "  % self.max_iter, ConvergenceWarning)\n",
            "/usr/local/lib/python3.7/dist-packages/sklearn/neural_network/_multilayer_perceptron.py:571: ConvergenceWarning: Stochastic Optimizer: Maximum iterations (500) reached and the optimization hasn't converged yet.\n",
            "  % self.max_iter, ConvergenceWarning)\n",
            "/usr/local/lib/python3.7/dist-packages/sklearn/neural_network/_multilayer_perceptron.py:571: ConvergenceWarning: Stochastic Optimizer: Maximum iterations (500) reached and the optimization hasn't converged yet.\n",
            "  % self.max_iter, ConvergenceWarning)\n",
            "/usr/local/lib/python3.7/dist-packages/sklearn/neural_network/_multilayer_perceptron.py:571: ConvergenceWarning: Stochastic Optimizer: Maximum iterations (500) reached and the optimization hasn't converged yet.\n",
            "  % self.max_iter, ConvergenceWarning)\n",
            "/usr/local/lib/python3.7/dist-packages/sklearn/neural_network/_multilayer_perceptron.py:571: ConvergenceWarning: Stochastic Optimizer: Maximum iterations (500) reached and the optimization hasn't converged yet.\n",
            "  % self.max_iter, ConvergenceWarning)\n",
            "/usr/local/lib/python3.7/dist-packages/sklearn/neural_network/_multilayer_perceptron.py:571: ConvergenceWarning: Stochastic Optimizer: Maximum iterations (500) reached and the optimization hasn't converged yet.\n",
            "  % self.max_iter, ConvergenceWarning)\n",
            "/usr/local/lib/python3.7/dist-packages/sklearn/neural_network/_multilayer_perceptron.py:571: ConvergenceWarning: Stochastic Optimizer: Maximum iterations (500) reached and the optimization hasn't converged yet.\n",
            "  % self.max_iter, ConvergenceWarning)\n",
            "/usr/local/lib/python3.7/dist-packages/sklearn/neural_network/_multilayer_perceptron.py:571: ConvergenceWarning: Stochastic Optimizer: Maximum iterations (500) reached and the optimization hasn't converged yet.\n",
            "  % self.max_iter, ConvergenceWarning)\n",
            "/usr/local/lib/python3.7/dist-packages/sklearn/neural_network/_multilayer_perceptron.py:571: ConvergenceWarning: Stochastic Optimizer: Maximum iterations (500) reached and the optimization hasn't converged yet.\n",
            "  % self.max_iter, ConvergenceWarning)\n",
            "/usr/local/lib/python3.7/dist-packages/sklearn/neural_network/_multilayer_perceptron.py:571: ConvergenceWarning: Stochastic Optimizer: Maximum iterations (500) reached and the optimization hasn't converged yet.\n",
            "  % self.max_iter, ConvergenceWarning)\n",
            "/usr/local/lib/python3.7/dist-packages/sklearn/neural_network/_multilayer_perceptron.py:571: ConvergenceWarning: Stochastic Optimizer: Maximum iterations (500) reached and the optimization hasn't converged yet.\n",
            "  % self.max_iter, ConvergenceWarning)\n",
            "/usr/local/lib/python3.7/dist-packages/sklearn/neural_network/_multilayer_perceptron.py:571: ConvergenceWarning: Stochastic Optimizer: Maximum iterations (500) reached and the optimization hasn't converged yet.\n",
            "  % self.max_iter, ConvergenceWarning)\n",
            "/usr/local/lib/python3.7/dist-packages/sklearn/neural_network/_multilayer_perceptron.py:571: ConvergenceWarning: Stochastic Optimizer: Maximum iterations (500) reached and the optimization hasn't converged yet.\n",
            "  % self.max_iter, ConvergenceWarning)\n",
            "/usr/local/lib/python3.7/dist-packages/sklearn/neural_network/_multilayer_perceptron.py:571: ConvergenceWarning: Stochastic Optimizer: Maximum iterations (500) reached and the optimization hasn't converged yet.\n",
            "  % self.max_iter, ConvergenceWarning)\n",
            "/usr/local/lib/python3.7/dist-packages/sklearn/neural_network/_multilayer_perceptron.py:571: ConvergenceWarning: Stochastic Optimizer: Maximum iterations (500) reached and the optimization hasn't converged yet.\n",
            "  % self.max_iter, ConvergenceWarning)\n",
            "/usr/local/lib/python3.7/dist-packages/sklearn/neural_network/_multilayer_perceptron.py:571: ConvergenceWarning: Stochastic Optimizer: Maximum iterations (500) reached and the optimization hasn't converged yet.\n",
            "  % self.max_iter, ConvergenceWarning)\n",
            "/usr/local/lib/python3.7/dist-packages/sklearn/neural_network/_multilayer_perceptron.py:571: ConvergenceWarning: Stochastic Optimizer: Maximum iterations (500) reached and the optimization hasn't converged yet.\n",
            "  % self.max_iter, ConvergenceWarning)\n",
            "/usr/local/lib/python3.7/dist-packages/sklearn/neural_network/_multilayer_perceptron.py:571: ConvergenceWarning: Stochastic Optimizer: Maximum iterations (500) reached and the optimization hasn't converged yet.\n",
            "  % self.max_iter, ConvergenceWarning)\n",
            "/usr/local/lib/python3.7/dist-packages/sklearn/neural_network/_multilayer_perceptron.py:571: ConvergenceWarning: Stochastic Optimizer: Maximum iterations (500) reached and the optimization hasn't converged yet.\n",
            "  % self.max_iter, ConvergenceWarning)\n",
            "/usr/local/lib/python3.7/dist-packages/sklearn/neural_network/_multilayer_perceptron.py:571: ConvergenceWarning: Stochastic Optimizer: Maximum iterations (500) reached and the optimization hasn't converged yet.\n",
            "  % self.max_iter, ConvergenceWarning)\n",
            "/usr/local/lib/python3.7/dist-packages/sklearn/neural_network/_multilayer_perceptron.py:571: ConvergenceWarning: Stochastic Optimizer: Maximum iterations (500) reached and the optimization hasn't converged yet.\n",
            "  % self.max_iter, ConvergenceWarning)\n",
            "/usr/local/lib/python3.7/dist-packages/sklearn/neural_network/_multilayer_perceptron.py:571: ConvergenceWarning: Stochastic Optimizer: Maximum iterations (500) reached and the optimization hasn't converged yet.\n",
            "  % self.max_iter, ConvergenceWarning)\n",
            "/usr/local/lib/python3.7/dist-packages/sklearn/neural_network/_multilayer_perceptron.py:571: ConvergenceWarning: Stochastic Optimizer: Maximum iterations (500) reached and the optimization hasn't converged yet.\n",
            "  % self.max_iter, ConvergenceWarning)\n",
            "/usr/local/lib/python3.7/dist-packages/sklearn/neural_network/_multilayer_perceptron.py:571: ConvergenceWarning: Stochastic Optimizer: Maximum iterations (500) reached and the optimization hasn't converged yet.\n",
            "  % self.max_iter, ConvergenceWarning)\n",
            "/usr/local/lib/python3.7/dist-packages/sklearn/neural_network/_multilayer_perceptron.py:571: ConvergenceWarning: Stochastic Optimizer: Maximum iterations (500) reached and the optimization hasn't converged yet.\n",
            "  % self.max_iter, ConvergenceWarning)\n",
            "/usr/local/lib/python3.7/dist-packages/sklearn/neural_network/_multilayer_perceptron.py:571: ConvergenceWarning: Stochastic Optimizer: Maximum iterations (500) reached and the optimization hasn't converged yet.\n",
            "  % self.max_iter, ConvergenceWarning)\n",
            "/usr/local/lib/python3.7/dist-packages/sklearn/neural_network/_multilayer_perceptron.py:571: ConvergenceWarning: Stochastic Optimizer: Maximum iterations (500) reached and the optimization hasn't converged yet.\n",
            "  % self.max_iter, ConvergenceWarning)\n",
            "/usr/local/lib/python3.7/dist-packages/sklearn/neural_network/_multilayer_perceptron.py:571: ConvergenceWarning: Stochastic Optimizer: Maximum iterations (500) reached and the optimization hasn't converged yet.\n",
            "  % self.max_iter, ConvergenceWarning)\n",
            "/usr/local/lib/python3.7/dist-packages/sklearn/neural_network/_multilayer_perceptron.py:571: ConvergenceWarning: Stochastic Optimizer: Maximum iterations (500) reached and the optimization hasn't converged yet.\n",
            "  % self.max_iter, ConvergenceWarning)\n",
            "/usr/local/lib/python3.7/dist-packages/sklearn/neural_network/_multilayer_perceptron.py:571: ConvergenceWarning: Stochastic Optimizer: Maximum iterations (500) reached and the optimization hasn't converged yet.\n",
            "  % self.max_iter, ConvergenceWarning)\n",
            "/usr/local/lib/python3.7/dist-packages/sklearn/neural_network/_multilayer_perceptron.py:571: ConvergenceWarning: Stochastic Optimizer: Maximum iterations (500) reached and the optimization hasn't converged yet.\n",
            "  % self.max_iter, ConvergenceWarning)\n",
            "/usr/local/lib/python3.7/dist-packages/sklearn/neural_network/_multilayer_perceptron.py:571: ConvergenceWarning: Stochastic Optimizer: Maximum iterations (500) reached and the optimization hasn't converged yet.\n",
            "  % self.max_iter, ConvergenceWarning)\n",
            "/usr/local/lib/python3.7/dist-packages/sklearn/neural_network/_multilayer_perceptron.py:571: ConvergenceWarning: Stochastic Optimizer: Maximum iterations (500) reached and the optimization hasn't converged yet.\n",
            "  % self.max_iter, ConvergenceWarning)\n",
            "/usr/local/lib/python3.7/dist-packages/sklearn/neural_network/_multilayer_perceptron.py:571: ConvergenceWarning: Stochastic Optimizer: Maximum iterations (500) reached and the optimization hasn't converged yet.\n",
            "  % self.max_iter, ConvergenceWarning)\n",
            "/usr/local/lib/python3.7/dist-packages/sklearn/neural_network/_multilayer_perceptron.py:571: ConvergenceWarning: Stochastic Optimizer: Maximum iterations (500) reached and the optimization hasn't converged yet.\n",
            "  % self.max_iter, ConvergenceWarning)\n",
            "/usr/local/lib/python3.7/dist-packages/sklearn/neural_network/_multilayer_perceptron.py:571: ConvergenceWarning: Stochastic Optimizer: Maximum iterations (500) reached and the optimization hasn't converged yet.\n",
            "  % self.max_iter, ConvergenceWarning)\n",
            "/usr/local/lib/python3.7/dist-packages/sklearn/neural_network/_multilayer_perceptron.py:571: ConvergenceWarning: Stochastic Optimizer: Maximum iterations (500) reached and the optimization hasn't converged yet.\n",
            "  % self.max_iter, ConvergenceWarning)\n",
            "/usr/local/lib/python3.7/dist-packages/sklearn/neural_network/_multilayer_perceptron.py:571: ConvergenceWarning: Stochastic Optimizer: Maximum iterations (500) reached and the optimization hasn't converged yet.\n",
            "  % self.max_iter, ConvergenceWarning)\n",
            "/usr/local/lib/python3.7/dist-packages/sklearn/neural_network/_multilayer_perceptron.py:571: ConvergenceWarning: Stochastic Optimizer: Maximum iterations (500) reached and the optimization hasn't converged yet.\n",
            "  % self.max_iter, ConvergenceWarning)\n"
          ],
          "name": "stderr"
        },
        {
          "output_type": "stream",
          "text": [
            "Max Score =  0.5\n",
            "Min Score =  0.2\n",
            "Avg Score =  0.34\n"
          ],
          "name": "stdout"
        },
        {
          "output_type": "stream",
          "text": [
            "/usr/local/lib/python3.7/dist-packages/sklearn/neural_network/_multilayer_perceptron.py:571: ConvergenceWarning: Stochastic Optimizer: Maximum iterations (500) reached and the optimization hasn't converged yet.\n",
            "  % self.max_iter, ConvergenceWarning)\n"
          ],
          "name": "stderr"
        },
        {
          "output_type": "display_data",
          "data": {
            "image/png": "[encoded data removed]",
            "text/plain": [
              "<Figure size 432x288 with 1 Axes>"
            ]
          },
          "metadata": {
            "tags": [],
            "needs_background": "light"
          }
        }
      ]
    },
    {
      "cell_type": "code",
      "metadata": {
        "colab": {
          "base_uri": "https://localhost:8080/"
        },
        "id": "gfLjDVreptpS",
        "outputId": "2e82b629-a8f9-49c2-81a5-03b43b14a5ab"
      },
      "source": [
        "B.predict(X_test)"
      ],
      "execution_count": null,
      "outputs": [
        {
          "output_type": "execute_result",
          "data": {
            "text/plain": [
              "array([0, 0, 1, 0, 0, 0, 0, 0, 1, 0, 0, 1, 1, 0, 0, 0, 0, 0, 0, 0, 0, 1,\n",
              "       0, 1, 0, 1, 0, 1, 0, 1])"
            ]
          },
          "metadata": {
            "tags": []
          },
          "execution_count": 26
        }
      ]
    },
    {
      "cell_type": "code",
      "metadata": {
        "colab": {
          "base_uri": "https://localhost:8080/"
        },
        "id": "sAroqLAzrnCG",
        "outputId": "081b18ed-e806-4508-ccec-6d852e645778"
      },
      "source": [
        "y_test"
      ],
      "execution_count": null,
      "outputs": [
        {
          "output_type": "execute_result",
          "data": {
            "text/plain": [
              "array([0, 0, 2, 0, 0, 1, 2, 0, 1, 0, 1, 0, 0, 0, 0, 0, 0, 0, 0, 1, 1, 2,\n",
              "       0, 0, 0, 0, 0, 2, 0, 0])"
            ]
          },
          "metadata": {
            "tags": []
          },
          "execution_count": 27
        }
      ]
    },
    {
      "cell_type": "code",
      "metadata": {
        "colab": {
          "base_uri": "https://localhost:8080/"
        },
        "id": "JraeaGvNrqmu",
        "outputId": "4fa84c53-e50f-43aa-a5c3-018b35ca8300"
      },
      "source": [
        "y_train"
      ],
      "execution_count": null,
      "outputs": [
        {
          "output_type": "execute_result",
          "data": {
            "text/plain": [
              "array([0, 1, 1, 0, 3, 2, 0, 1, 1, 0, 0, 0, 0, 0, 1, 0, 0, 0, 1, 0, 3, 0,\n",
              "       1, 0, 0, 1, 1, 0, 1, 0, 0, 0, 0, 2, 3, 0, 0, 0, 1, 0, 0, 0, 0, 0,\n",
              "       0, 1, 0, 1, 0, 0, 1, 0, 0, 0, 0, 0, 1, 0, 2])"
            ]
          },
          "metadata": {
            "tags": []
          },
          "execution_count": 28
        }
      ]
    },
    {
      "cell_type": "markdown",
      "metadata": {
        "id": "F6HX-Y5BRIvS"
      },
      "source": [
        "# Perceptron\n"
      ]
    },
    {
      "cell_type": "code",
      "metadata": {
        "id": "PNGwy7c1RQSG"
      },
      "source": [
        "from sklearn.linear_model import Perceptron\n",
        "from sklearn.model_selection import train_test_split\n",
        "import copy"
      ],
      "execution_count": null,
      "outputs": []
    },
    {
      "cell_type": "code",
      "metadata": {
        "id": "JQ0LA1vzRw2U",
        "colab": {
          "base_uri": "https://localhost:8080/",
          "height": 720
        },
        "outputId": "3c44c63a-1833-4d08-fb97-9a64f2105e2b"
      },
      "source": [
        "percp_X = copy.deepcopy(X)\n",
        "percp_y = copy.deepcopy(y)\n",
        "\n",
        "percp_X = np.split(percp_X, [2], 1)[1]\n",
        "per_scores = np.zeros(100)\n",
        "\n",
        "for i in range(100):\n",
        "  trainPX, testPX, trainPy, testPy = train_test_split(percp_X, percp_y, test_size=0.33)\n",
        "\n",
        "  percp = Perceptron(random_state=True, shuffle=True)\n",
        "  percp.fit(trainPX, trainPy)\n",
        "\n",
        "  per_scores[i] = percp.score(testPX, testPy)\n",
        "\n",
        "print(\"Max Score = \", np.amax(per_scores))\n",
        "print(\"Min Score = \", np.amin(per_scores))\n",
        "print(\"Avg Score = \", np.mean(per_scores))\n",
        "\n",
        "plt.violinplot(per_scores, vert=False)\n",
        "plt.title(\"Perceptron Accuracies \")\n",
        "plt.show()\n",
        "\n",
        "trainPX, testPX, trainPy, testPy = train_test_split(percp_X, percp_y, test_size=0.33)\n",
        "percp = Perceptron(random_state=True, shuffle=True)\n",
        "percp.fit(trainPX, trainPy)\n",
        "\n",
        "predictions = percp.predict(testPX)\n",
        "XCondense = condenseX(testPX)\n",
        "\n",
        "plt.plot(XCondense, predictions)\n",
        "plt.plot(XCondense, testPy, \"bo\")\n",
        "plt.show()"
      ],
      "execution_count": null,
      "outputs": [
        {
          "output_type": "stream",
          "text": [
            "Max Score =  0.8\n",
            "Min Score =  0.0\n",
            "Avg Score =  0.385\n"
          ],
          "name": "stdout"
        },
        {
          "output_type": "display_data",
          "data": {
            "image/png": "[encoded data removed]",
            "text/plain": [
              "<Figure size 432x288 with 1 Axes>"
            ]
          },
          "metadata": {
            "tags": [],
            "needs_background": "light"
          }
        },
        {
          "output_type": "error",
          "ename": "TypeError",
          "evalue": "ignored",
          "traceback": [
            "\u001b[0;31m---------------------------------------------------------------------------\u001b[0m",
            "\u001b[0;31mTypeError\u001b[0m                                 Traceback (most recent call last)",
            "\u001b[0;32m<ipython-input-32-49ac041302e1>\u001b[0m in \u001b[0;36m<module>\u001b[0;34m()\u001b[0m\n\u001b[1;32m     26\u001b[0m \u001b[0;34m\u001b[0m\u001b[0m\n\u001b[1;32m     27\u001b[0m \u001b[0mpredictions\u001b[0m \u001b[0;34m=\u001b[0m \u001b[0mpercp\u001b[0m\u001b[0;34m.\u001b[0m\u001b[0mpredict\u001b[0m\u001b[0;34m(\u001b[0m\u001b[0mtestPX\u001b[0m\u001b[0;34m)\u001b[0m\u001b[0;34m\u001b[0m\u001b[0;34m\u001b[0m\u001b[0m\n\u001b[0;32m---> 28\u001b[0;31m \u001b[0mXCondense\u001b[0m \u001b[0;34m=\u001b[0m \u001b[0mcondenseX\u001b[0m\u001b[0;34m(\u001b[0m\u001b[0mtestPX\u001b[0m\u001b[0;34m)\u001b[0m\u001b[0;34m\u001b[0m\u001b[0;34m\u001b[0m\u001b[0m\n\u001b[0m\u001b[1;32m     29\u001b[0m \u001b[0;34m\u001b[0m\u001b[0m\n\u001b[1;32m     30\u001b[0m \u001b[0mplt\u001b[0m\u001b[0;34m.\u001b[0m\u001b[0mplot\u001b[0m\u001b[0;34m(\u001b[0m\u001b[0mXCondense\u001b[0m\u001b[0;34m,\u001b[0m \u001b[0mpredictions\u001b[0m\u001b[0;34m)\u001b[0m\u001b[0;34m\u001b[0m\u001b[0;34m\u001b[0m\u001b[0m\n",
            "\u001b[0;32m<ipython-input-13-f5eb3ba64c57>\u001b[0m in \u001b[0;36mcondenseX\u001b[0;34m(X)\u001b[0m\n\u001b[1;32m      1\u001b[0m \u001b[0;32mdef\u001b[0m \u001b[0mcondenseX\u001b[0m\u001b[0;34m(\u001b[0m\u001b[0mX\u001b[0m\u001b[0;34m)\u001b[0m\u001b[0;34m:\u001b[0m\u001b[0;34m\u001b[0m\u001b[0;34m\u001b[0m\u001b[0m\n\u001b[1;32m      2\u001b[0m   \u001b[0mXNormal\u001b[0m \u001b[0;34m=\u001b[0m \u001b[0mcopy\u001b[0m\u001b[0;34m.\u001b[0m\u001b[0mdeepcopy\u001b[0m\u001b[0;34m(\u001b[0m\u001b[0mX\u001b[0m\u001b[0;34m)\u001b[0m\u001b[0;34m\u001b[0m\u001b[0;34m\u001b[0m\u001b[0m\n\u001b[0;32m----> 3\u001b[0;31m   \u001b[0mXNormal\u001b[0m \u001b[0;34m=\u001b[0m \u001b[0mXNormal\u001b[0m \u001b[0;34m/\u001b[0m \u001b[0mXNormal\u001b[0m\u001b[0;34m.\u001b[0m\u001b[0mmax\u001b[0m\u001b[0;34m(\u001b[0m\u001b[0maxis\u001b[0m\u001b[0;34m=\u001b[0m\u001b[0;36m0\u001b[0m\u001b[0;34m)\u001b[0m\u001b[0;34m\u001b[0m\u001b[0;34m\u001b[0m\u001b[0m\n\u001b[0m\u001b[1;32m      4\u001b[0m   \u001b[0;32mreturn\u001b[0m \u001b[0mnp\u001b[0m\u001b[0;34m.\u001b[0m\u001b[0msum\u001b[0m\u001b[0;34m(\u001b[0m\u001b[0mXNormal\u001b[0m\u001b[0;34m,\u001b[0m \u001b[0maxis\u001b[0m\u001b[0;34m=\u001b[0m\u001b[0;36m0\u001b[0m\u001b[0;34m)\u001b[0m\u001b[0;34m\u001b[0m\u001b[0;34m\u001b[0m\u001b[0m\n",
            "\u001b[0;32m/usr/local/lib/python3.7/dist-packages/numpy/core/_methods.py\u001b[0m in \u001b[0;36m_amax\u001b[0;34m(a, axis, out, keepdims, initial, where)\u001b[0m\n\u001b[1;32m     37\u001b[0m def _amax(a, axis=None, out=None, keepdims=False,\n\u001b[1;32m     38\u001b[0m           initial=_NoValue, where=True):\n\u001b[0;32m---> 39\u001b[0;31m     \u001b[0;32mreturn\u001b[0m \u001b[0mumr_maximum\u001b[0m\u001b[0;34m(\u001b[0m\u001b[0ma\u001b[0m\u001b[0;34m,\u001b[0m \u001b[0maxis\u001b[0m\u001b[0;34m,\u001b[0m \u001b[0;32mNone\u001b[0m\u001b[0;34m,\u001b[0m \u001b[0mout\u001b[0m\u001b[0;34m,\u001b[0m \u001b[0mkeepdims\u001b[0m\u001b[0;34m,\u001b[0m \u001b[0minitial\u001b[0m\u001b[0;34m,\u001b[0m \u001b[0mwhere\u001b[0m\u001b[0;34m)\u001b[0m\u001b[0;34m\u001b[0m\u001b[0;34m\u001b[0m\u001b[0m\n\u001b[0m\u001b[1;32m     40\u001b[0m \u001b[0;34m\u001b[0m\u001b[0m\n\u001b[1;32m     41\u001b[0m def _amin(a, axis=None, out=None, keepdims=False,\n",
            "\u001b[0;31mTypeError\u001b[0m: '>=' not supported between instances of 'str' and 'int'"
          ]
        }
      ]
    },
    {
      "cell_type": "markdown",
      "metadata": {
        "id": "WfudAor2LMD1"
      },
      "source": [
        "# KNN "
      ]
    },
    {
      "cell_type": "markdown",
      "metadata": {
        "id": "2Ms5yWTQNnU5"
      },
      "source": [
        "KNN info:\n",
        "\n",
        "k = 3 seems to be best.\n",
        "\n",
        "Normalization seems to decrease accuracy.\n",
        "\n",
        "No other settings seem to have a noticable impact beyond normal settings\n"
      ]
    },
    {
      "cell_type": "code",
      "metadata": {
        "id": "nnoF9RtaLLvn"
      },
      "source": [
        "from sklearn.neighbors import KNeighborsClassifier\n",
        "from sklearn.model_selection import train_test_split"
      ],
      "execution_count": null,
      "outputs": []
    },
    {
      "cell_type": "code",
      "metadata": {
        "id": "VQYwLaIgLgLQ",
        "colab": {
          "base_uri": "https://localhost:8080/",
          "height": 336
        },
        "outputId": "c84c7744-bc0f-49c6-e97b-f38f3886abb1"
      },
      "source": [
        "knn_scores = np.zeros(100)\n",
        "\n",
        "# destringifyX(KnnX)\n",
        "\n",
        "KnnX = np.split(X, [2], 1)[1]\n",
        "\n",
        "#print(\"unnormalized: \", KnnX)\n",
        "#KnnX = KnnX / KnnX.max(axis=0)\n",
        "#print(\"normalized: \", KnnX)\n",
        "\n",
        "for i in range(100):\n",
        "  trainKX, testKX, trainKy, testKy = train_test_split(KnnX, y, test_size=0.33)\n",
        "\n",
        "  neigh = KNeighborsClassifier(n_neighbors=3)\n",
        "  neigh.fit(trainKX, trainKy)\n",
        "\n",
        "  knn_scores[i] = neigh.score(testKX, testKy)\n",
        "\n",
        "print(\"Max Score = \", np.amax(knn_scores))\n",
        "print(\"Min Score = \", np.amin(knn_scores))\n",
        "print(\"Avg Score = \", np.mean(knn_scores))\n",
        "\n",
        "plt.violinplot(knn_scores, vert=False)\n",
        "plt.title(\"KNN Accuracies \")\n",
        "plt.show()"
      ],
      "execution_count": null,
      "outputs": [
        {
          "output_type": "stream",
          "text": [
            "Max Score =  0.7333333333333333\n",
            "Min Score =  0.4\n",
            "Avg Score =  0.5966666666666667\n"
          ],
          "name": "stdout"
        },
        {
          "output_type": "display_data",
          "data": {
            "image/png": "[encoded data removed]",
            "text/plain": [
              "<Figure size 432x288 with 1 Axes>"
            ]
          },
          "metadata": {
            "tags": [],
            "needs_background": "light"
          }
        }
      ]
    }
  ]
}